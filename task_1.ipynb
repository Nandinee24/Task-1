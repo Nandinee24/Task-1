{
  "nbformat": 4,
  "nbformat_minor": 0,
  "metadata": {
    "colab": {
      "provenance": [],
      "gpuType": "T4",
      "authorship_tag": "ABX9TyPU2ix4rHGhwW4fLq/+rF76",
      "include_colab_link": true
    },
    "kernelspec": {
      "name": "python3",
      "display_name": "Python 3"
    },
    "language_info": {
      "name": "python"
    },
    "accelerator": "GPU"
  },
  "cells": [
    {
      "cell_type": "markdown",
      "metadata": {
        "id": "view-in-github",
        "colab_type": "text"
      },
      "source": [
        "<a href=\"https://colab.research.google.com/github/Nandinee24/Task-1/blob/main/task_1.ipynb\" target=\"_parent\"><img src=\"https://colab.research.google.com/assets/colab-badge.svg\" alt=\"Open In Colab\"/></a>"
      ]
    },
    {
      "cell_type": "code",
      "execution_count": 1,
      "metadata": {
        "colab": {
          "base_uri": "https://localhost:8080/"
        },
        "id": "6hhdSbs4-8oC",
        "outputId": "9ee5b7cc-531b-4d55-a28c-003392cb2b7e"
      },
      "outputs": [
        {
          "output_type": "stream",
          "name": "stdout",
          "text": [
            "Initial list: [1, 2, 3, 4, 5]\n",
            "List after adding an element: [1, 2, 3, 4, 5, 6]\n",
            "List after removing an element: [1, 3, 4, 5, 6]\n",
            "List after modifying an element: [10, 3, 4, 5, 6]\n",
            "\n",
            "Initial dictionary: {'a': 1, 'b': 2, 'c': 3}\n",
            "Dictionary after adding a key-value pair: {'a': 1, 'b': 2, 'c': 3, 'd': 4}\n",
            "Dictionary after removing a key-value pair: {'a': 1, 'c': 3, 'd': 4}\n",
            "Dictionary after modifying a value: {'a': 10, 'c': 3, 'd': 4}\n",
            "\n",
            "Initial set: {1, 2, 3, 4, 5}\n",
            "Set after adding an element: {1, 2, 3, 4, 5, 6}\n",
            "Set after removing an element: {1, 2, 4, 5, 6}\n",
            "Set after modifying elements: {1, 4, 5, 6, 7}\n"
          ]
        }
      ],
      "source": [
        "# Create a list\n",
        "my_list = [1, 2, 3, 4, 5]\n",
        "print(\"Initial list:\", my_list)\n",
        "\n",
        "# Add an element to the list\n",
        "my_list.append(6)\n",
        "print(\"List after adding an element:\", my_list)\n",
        "\n",
        "# Remove an element from the list\n",
        "my_list.remove(2)\n",
        "print(\"List after removing an element:\", my_list)\n",
        "\n",
        "# Modify an element in the list\n",
        "my_list[0] = 10\n",
        "print(\"List after modifying an element:\", my_list)\n",
        "\n",
        "# Create a dictionary\n",
        "my_dict = {'a': 1, 'b': 2, 'c': 3}\n",
        "print(\"\\nInitial dictionary:\", my_dict)\n",
        "\n",
        "# Add a key-value pair to the dictionary\n",
        "my_dict['d'] = 4\n",
        "print(\"Dictionary after adding a key-value pair:\", my_dict)\n",
        "\n",
        "# Remove a key-value pair from the dictionary\n",
        "del my_dict['b']\n",
        "print(\"Dictionary after removing a key-value pair:\", my_dict)\n",
        "\n",
        "# Modify a value in the dictionary\n",
        "my_dict['a'] = 10\n",
        "print(\"Dictionary after modifying a value:\", my_dict)\n",
        "\n",
        "# Create a set\n",
        "my_set = {1, 2, 3, 4, 5}\n",
        "print(\"\\nInitial set:\", my_set)\n",
        "\n",
        "# Add an element to the set\n",
        "my_set.add(6)\n",
        "print(\"Set after adding an element:\", my_set)\n",
        "\n",
        "# Remove an element from the set\n",
        "my_set.remove(3)\n",
        "print(\"Set after removing an element:\", my_set)\n",
        "\n",
        "# Modify a set by removing an element and adding another\n",
        "my_set.discard(2)  # Discard doesn't raise an error if the element is not found\n",
        "my_set.add(7)\n",
        "print(\"Set after modifying elements:\", my_set)\n"
      ]
    }
  ]
}